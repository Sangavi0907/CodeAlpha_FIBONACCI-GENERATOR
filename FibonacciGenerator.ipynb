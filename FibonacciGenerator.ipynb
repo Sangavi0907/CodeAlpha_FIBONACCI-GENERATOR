{
  "nbformat": 4,
  "nbformat_minor": 0,
  "metadata": {
    "colab": {
      "provenance": []
    },
    "kernelspec": {
      "name": "python3",
      "display_name": "Python 3"
    }, 
    "language_info": {
      "name": "python"
    }
  },
  "cells": [
    {
      "cell_type": "code",
      "execution_count": 1,
      "metadata": {
        "id": "Iyv5sw_tNovc"
      },
      "outputs": [],
      "source": [
        "def fiboSeries(num):\n",
        "  fibo=[0,1]\n",
        "  for i in range(2,num):\n",
        "    term=fibo[-1]+fibo[-2]\n",
        "    fibo.append(term)\n",
        "  return fibo"
      ]
    },
    {
      "cell_type": "code",
      "source": [
        "print(\"FIBONACCI SERIES GENERATOR!!\")\n",
        "ch=int(input(\"1.Generate series\\n2.End Series\\nEnter your choice:\"))\n",
        "while(ch!=2):\n",
        "  num=int(input(\"\\nEnter number of terms to be generated:\"))\n",
        "  f=fiboSeries(num)\n",
        "  print(f)\n",
        "  print()\n",
        "  ch=int(input(\"1.Generate series\\n2.End Series\\nEnter your choice:\"))"
      ],
      "metadata": {
        "colab": {
          "base_uri": "https://localhost:8080/"
        },
        "id": "bMLlkX7XOmVR",
        "outputId": "3fa085d2-df7e-4b23-beae-a7497ee3874d"
      },
      "execution_count": 2,
      "outputs": [
        {
          "name": "stdout",
          "output_type": "stream",
          "text": [
            "FIBONACCI SERIES GENERATOR!!\n",
            "1.Generate series\n",
            "2.End Series\n",
            "Enter your choice:1\n",
            "\n",
            "Enter number of terms to be generated:5\n",
            "[0, 1, 1, 2, 3]\n",
            "\n",
            "1.Generate series\n",
            "2.End Series\n",
            "Enter your choice:1\n",
            "\n",
            "Enter number of terms to be generated:15\n",
            "[0, 1, 1, 2, 3, 5, 8, 13, 21, 34, 55, 89, 144, 233, 377]\n",
            "\n",
            "1.Generate series\n",
            "2.End Series\n",
            "Enter your choice:2\n"
          ]
        }
      ]
    }
  ]
}
